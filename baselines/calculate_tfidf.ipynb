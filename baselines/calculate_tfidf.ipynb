{
 "cells": [
  {
   "cell_type": "code",
   "execution_count": 2,
   "metadata": {},
   "outputs": [],
   "source": [
    "import pandas as pd\n",
    "from sklearn.feature_extraction.text import TfidfVectorizer\n",
    "import numpy as np"
   ]
  },
  {
   "cell_type": "code",
   "execution_count": 3,
   "metadata": {},
   "outputs": [],
   "source": [
    "df = pd.read_csv('dataset/mind_small_with_items/mind_small_with_items.train.inter', sep='\\t')\n",
    "df_dev = pd.read_csv('dataset/mind_small_with_items/mind_small_with_items.dev.inter', sep='\\t')"
   ]
  },
  {
   "cell_type": "code",
   "execution_count": 4,
   "metadata": {},
   "outputs": [],
   "source": [
    "df_items = pd.read_csv('dataset/mind_small_with_items/mind_small_with_items.train.item', sep='\\t')\n",
    "df_items_dev = pd.read_csv('dataset/mind_small_with_items/mind_small_with_items.dev.item', sep='\\t')"
   ]
  },
  {
   "cell_type": "code",
   "execution_count": 5,
   "metadata": {},
   "outputs": [],
   "source": [
    "vec = TfidfVectorizer(max_features=5_000)"
   ]
  },
  {
   "cell_type": "code",
   "execution_count": 6,
   "metadata": {},
   "outputs": [
    {
     "data": {
      "text/plain": [
       "TfidfVectorizer(max_features=5000)"
      ]
     },
     "execution_count": 6,
     "metadata": {},
     "output_type": "execute_result"
    }
   ],
   "source": [
    "vec.fit(df_items['title:token_seq'])"
   ]
  },
  {
   "cell_type": "code",
   "execution_count": 7,
   "metadata": {},
   "outputs": [],
   "source": [
    "transformed_train = np.array(vec.transform(df_items['title:token_seq']).todense())\n",
    "transformed_dev= np.array(vec.transform(df_items_dev['title:token_seq']).todense())"
   ]
  },
  {
   "cell_type": "code",
   "execution_count": 8,
   "metadata": {},
   "outputs": [],
   "source": [
    "df_items['title_tf_idf:float_seq'] = [' '.join([str(n) for n in doc]) for doc in transformed_train]\n",
    "df_items_dev['title_tf_idf:float_seq'] = [' '.join([str(n) for n in doc]) for doc in transformed_dev]"
   ]
  },
  {
   "cell_type": "code",
   "execution_count": 9,
   "metadata": {},
   "outputs": [],
   "source": [
    "pd.concat([df_items, df_items_dev]).drop_duplicates()\\\n",
    "    .to_csv('dataset/mind_small_tfidf_merged/mind_small_tfidf_merged.item', sep='\\t',index=False)"
   ]
  },
  {
   "cell_type": "code",
   "execution_count": 10,
   "metadata": {},
   "outputs": [],
   "source": [
    "pd.concat([df, df_dev])\\\n",
    "    .to_csv('dataset/mind_small_tfidf_merged/mind_small_tfidf_merged.inter', sep='\\t',index=False)"
   ]
  },
  {
   "cell_type": "code",
   "execution_count": null,
   "metadata": {},
   "outputs": [],
   "source": []
  }
 ],
 "metadata": {
  "kernelspec": {
   "display_name": "recenvc",
   "language": "python",
   "name": "python3"
  },
  "language_info": {
   "codemirror_mode": {
    "name": "ipython",
    "version": 3
   },
   "file_extension": ".py",
   "mimetype": "text/x-python",
   "name": "python",
   "nbconvert_exporter": "python",
   "pygments_lexer": "ipython3",
   "version": "3.9.0"
  },
  "orig_nbformat": 4
 },
 "nbformat": 4,
 "nbformat_minor": 2
}
